{
 "cells": [
  {
   "cell_type": "code",
   "execution_count": 4,
   "metadata": {
    "cocalc": {
     "outputs": {
      "0": {
       "name": "input",
       "opts": {
        "password": false,
        "prompt": "Does the student go out of their way to ask for help when stuck? (yes/no)"
       },
       "output_type": "stream",
       "value": "yes"
      },
      "1": {
       "name": "input",
       "opts": {
        "password": false,
        "prompt": "What is something the student should keep doing regarding their critical thinking?"
       },
       "output_type": "stream",
       "value": "x"
      },
      "10": {
       "name": "input",
       "opts": {
        "password": false,
        "prompt": "Does the student go out of their way to ask for help when stuck? (yes/no)"
       },
       "output_type": "stream",
       "value": "no"
      },
      "11": {
       "name": "input",
       "opts": {
        "password": false,
        "prompt": "What is something the student should keep doing regarding their communication?"
       },
       "output_type": "stream",
       "value": "x"
      },
      "12": {
       "name": "input",
       "opts": {
        "password": false,
        "prompt": "Give an example of an assignment they did well on, that was benefitted by their x"
       },
       "output_type": "stream",
       "value": "x"
      },
      "13": {
       "name": "input",
       "opts": {
        "password": false,
        "prompt": "What is something the student should work on regarding their communication?"
       },
       "output_type": "stream",
       "value": "x"
      },
      "14": {
       "name": "input",
       "opts": {
        "password": false,
        "prompt": "Give an example of an assignment they could have improved if they worked on the answer above"
       },
       "output_type": "stream",
       "value": "x"
      },
      "2": {
       "name": "input",
       "opts": {
        "password": false,
        "prompt": "Give an example of an assignment they did well on, that was benefitted by their x"
       },
       "output_type": "stream",
       "value": "x"
      },
      "3": {
       "name": "input",
       "opts": {
        "password": false,
        "prompt": "What is something the student should work on regarding their critical thinking?"
       },
       "output_type": "stream",
       "value": "x"
      },
      "4": {
       "name": "input",
       "opts": {
        "password": false,
        "prompt": "Give an example of an assignment they could have improved if they worked on the answer above"
       },
       "output_type": "stream",
       "value": "x"
      },
      "5": {
       "name": "input",
       "opts": {
        "password": false,
        "prompt": "Does the student go out of their way to ask for help when stuck? (yes/no)"
       },
       "output_type": "stream",
       "value": "no"
      },
      "6": {
       "name": "input",
       "opts": {
        "password": false,
        "prompt": "What is something the student should keep doing regarding their collaboration?"
       },
       "output_type": "stream",
       "value": "x"
      },
      "7": {
       "name": "input",
       "opts": {
        "password": false,
        "prompt": "Give an example of an assignment they did well on, that was benefitted by their x"
       },
       "output_type": "stream",
       "value": "x"
      },
      "8": {
       "name": "input",
       "opts": {
        "password": false,
        "prompt": "What is something the student should work on regarding their collaboration?"
       },
       "output_type": "stream",
       "value": "x"
      },
      "9": {
       "name": "input",
       "opts": {
        "password": false,
        "prompt": "Give an example of an assignment they could have improved if they worked on the answer above"
       },
       "output_type": "stream",
       "value": "x"
      }
     }
    },
    "collapsed": false,
    "scrolled": true
   },
   "outputs": [
    {
     "name": "stdout",
     "output_type": "stream",
     "text": "Does the student go out of their way to ask for help when stuck? (yes/no) yes"
    },
    {
     "name": "stdout",
     "output_type": "stream",
     "text": "What is something the student should keep doing regarding their critical thinking? x"
    },
    {
     "name": "stdout",
     "output_type": "stream",
     "text": "Give an example of an assignment they did well on, that was benefitted by their x x"
    },
    {
     "name": "stdout",
     "output_type": "stream",
     "text": "What is something the student should work on regarding their critical thinking? x"
    },
    {
     "name": "stdout",
     "output_type": "stream",
     "text": "Give an example of an assignment they could have improved if they worked on the answer above x"
    },
    {
     "name": "stdout",
     "output_type": "stream",
     "text": "Does the student go out of their way to ask for help when stuck? (yes/no) no"
    },
    {
     "name": "stdout",
     "output_type": "stream",
     "text": "What is something the student should keep doing regarding their collaboration? x"
    },
    {
     "name": "stdout",
     "output_type": "stream",
     "text": "Give an example of an assignment they did well on, that was benefitted by their x x"
    },
    {
     "name": "stdout",
     "output_type": "stream",
     "text": "What is something the student should work on regarding their collaboration? x"
    },
    {
     "name": "stdout",
     "output_type": "stream",
     "text": "Give an example of an assignment they could have improved if they worked on the answer above x"
    },
    {
     "name": "stdout",
     "output_type": "stream",
     "text": "Does the student go out of their way to ask for help when stuck? (yes/no) no"
    },
    {
     "name": "stdout",
     "output_type": "stream",
     "text": "What is something the student should keep doing regarding their communication? x"
    },
    {
     "name": "stdout",
     "output_type": "stream",
     "text": "Give an example of an assignment they did well on, that was benefitted by their x x"
    },
    {
     "name": "stdout",
     "output_type": "stream",
     "text": "What is something the student should work on regarding their communication? x"
    },
    {
     "name": "stdout",
     "output_type": "stream",
     "text": "Give an example of an assignment they could have improved if they worked on the answer above x"
    },
    {
     "name": "stdout",
     "output_type": "stream",
     "text": [
      "Aaron, this last semester in Pre-Calculus we explored a range of new content from Trigonometry to Binomials. As evidence from your Final Exam and Unit Tests, along with in-class activities and text-book problems, you demonstrated a strong understanding of the content. For both small and large assesments, you were assessed on 3 main learning goals for the 2nd semester:\n"
     ]
    }
   ],
   "source": [
    "# Teacher Comment Project\n",
    "\n",
    "\n",
    "\n",
    "# COURSE INTRODUCTION\n",
    "\n",
    "name = 'Aaron'\n",
    "units = ['Trigonometry', 'Binomials']\n",
    "course = 'Pre-Calculus'\n",
    "small_assesments = ['in-class activities', 'text-book problems', 'writing assignments']\n",
    "large_assesments = ['Final Exam', 'Unit Tests']\n",
    "learning_goals = ['critical thinking', 'collaboration', 'communication']\n",
    "semester = 2\n",
    "level_understanding = 'strong'\n",
    "\n",
    "\n",
    "def introduction(name, units, course, small_assesments, large_assesments, learning_goals, semester, level_understanding):\n",
    "    if semester == 1:\n",
    "        semester = '1st'\n",
    "    if semester == 2:\n",
    "        semester = '2nd'\n",
    "    with open('comments.txt', 'w') as txt:\n",
    "        txt.write(f\"{name}, this last semester in {course} we explored a range of new content from {units[0]} to {units[1]}. As evidence from your {large_assesments[0]} and {large_assesments[1]}, along with {small_assesments[0]} and {small_assesments[1]}, you demonstrated a {level_understanding} understanding of the content. For both small and large assesments, you were assessed on {len(learning_goals)} main learning goals for the {semester} semester:\")\n",
    "\n",
    "\n",
    "\n",
    "\n",
    "\n",
    "# LEARNING GOALS\n",
    "\n",
    "\n",
    "\n",
    "def learninggoals(learning_goals, name):\n",
    "    for goal in learning_goals:\n",
    "        asks_for_help = input('Does the student go out of their way to ask for help when stuck? (yes/no)')\n",
    "        keep_up = input(f'What is something the student should keep doing regarding their {goal}?')\n",
    "        evidence_of_good = input(f'Give an example of an assignment they did well on, that was benefitted by their {keep_up}')\n",
    "        work_on = input(f'What is something the student should work on regarding their {goal}?')\n",
    "        evidence_to_improve = input('Give an example of an assignment they could have improved if they worked on the answer above')\n",
    "        with open('comments.txt', 'w') as txt:\n",
    "            txt.write(f\"{goal.upper()}: You have showed great improvement in your {goal}. I have seen that you are {keep_up} and your {evidence_of_good} really benefitted from that ability. I have seen you struggle, however, in your ability to {work_on} but I can tell you are working on it. In the future, if you are struggling with your ability to {work_on}, meet with me and we can sort it out.\")\n",
    "            if asks_for_help == 'yes':\n",
    "                txt.write(\"I have seen you ask for help often, keep doing it, it's how you improve!\")\n",
    "            txt.write(f\"I think your {evidence_to_improve} could have gotten a really good grade if you {work_on}, and in the future if you work on this your grade will improve! Overall, good work {name}.\")\n",
    "\n",
    "learninggoals(learning_goals, name)\n",
    "introduction(name, units, course, small_assesments, large_assesments, learning_goals, semester, level_understanding)\n",
    "\n",
    "with open('comments.txt') as txt:\n",
    "    for line in txt:\n",
    "        print(line)"
   ]
  },
  {
   "cell_type": "code",
   "execution_count": 0,
   "metadata": {
    "collapsed": false
   },
   "outputs": [
   ],
   "source": [
   ]
  }
 ],
 "metadata": {
  "kernelspec": {
   "display_name": "Python 3 (Anaconda 2020)",
   "env": {
    "ADDR2LINE": "/ext/anaconda2020.02/bin/x86_64-conda_cos6-linux-gnu-addr2line",
    "ANACONDA2019": "$EXT/anaconda-2019.03",
    "ANACONDA2020": "/ext/anaconda2020.02",
    "ANACONDA3": "$EXT/anaconda3",
    "ANACONDA5": "$EXT/anaconda5",
    "AR": "/ext/anaconda2020.02/bin/x86_64-conda_cos6-linux-gnu-ar",
    "AS": "/ext/anaconda2020.02/bin/x86_64-conda_cos6-linux-gnu-as",
    "CC": "/ext/anaconda2020.02/bin/x86_64-conda_cos6-linux-gnu-cc",
    "CFLAGS": "-march=nocona -mtune=haswell -ftree-vectorize -fPIC -fstack-protector-strong -fno-plt -O2 -ffunction-sections -pipe -isystem /ext/anaconda2020.02/include",
    "CMAKE_PREFIX_PATH": "/ext/anaconda2020.02:/ext/anaconda2020.02/x86_64-conda_cos6-linux-gnu/sysroot/usr",
    "CONDA_BACKUP_HOST": "x86_64-conda_cos6-linux-gnu",
    "CONDA_BUILD_SYSROOT": "/ext/anaconda2020.02/x86_64-conda_cos6-linux-gnu/sysroot",
    "CONDA_DEFAULT_ENV": "base",
    "CONDA_EXE": "/ext/anaconda2020.02/bin/conda",
    "CONDA_MKL_INTERFACE_LAYER_BACKUP": "",
    "CONDA_PREFIX": "/ext/anaconda2020.02",
    "CONDA_PROMPT_MODIFIER": "(base) ",
    "CONDA_PYTHON_EXE": "/ext/anaconda2020.02/bin/python",
    "CONDA_SHLVL": "1",
    "CPP": "/ext/anaconda2020.02/bin/x86_64-conda_cos6-linux-gnu-cpp",
    "CPPFLAGS": "-DNDEBUG -D_FORTIFY_SOURCE=2 -O2 -isystem /ext/anaconda2020.02/include",
    "CXX": "/ext/anaconda2020.02/bin/x86_64-conda_cos6-linux-gnu-c++",
    "CXXFILT": "/ext/anaconda2020.02/bin/x86_64-conda_cos6-linux-gnu-c++filt",
    "CXXFLAGS": "-fvisibility-inlines-hidden -std=c++17 -fmessage-length=0 -march=nocona -mtune=haswell -ftree-vectorize -fPIC -fstack-protector-strong -fno-plt -O2 -ffunction-sections -pipe -isystem /ext/anaconda2020.02/include",
    "DEBUG_CFLAGS": "-march=nocona -mtune=haswell -ftree-vectorize -fPIC -fstack-protector-all -fno-plt -Og -g -Wall -Wextra -fvar-tracking-assignments -ffunction-sections -pipe -isystem /ext/anaconda2020.02/include",
    "DEBUG_CPPFLAGS": "-D_DEBUG -D_FORTIFY_SOURCE=2 -Og -isystem /ext/anaconda2020.02/include",
    "DEBUG_CXXFLAGS": "-fvisibility-inlines-hidden -std=c++17 -fmessage-length=0 -march=nocona -mtune=haswell -ftree-vectorize -fPIC -fstack-protector-all -fno-plt -Og -g -Wall -Wextra -fvar-tracking-assignments -ffunction-sections -pipe -isystem /ext/anaconda2020.02/include",
    "DEBUG_FFLAGS": "-fopenmp -march=nocona -mtune=haswell -ftree-vectorize -fPIC -fstack-protector-strong -fno-plt -O2 -ffunction-sections -pipe -isystem /ext/anaconda2020.02/include -fopenmp -march=nocona -mtune=haswell -ftree-vectorize -fPIC -fstack-protector-all -fno-plt -Og -g -Wall -Wextra -fcheck=all -fbacktrace -fimplicit-none -fvar-tracking-assignments -ffunction-sections -pipe",
    "DEBUG_FORTRANFLAGS": "-fopenmp -march=nocona -mtune=haswell -ftree-vectorize -fPIC -fstack-protector-strong -fno-plt -O2 -ffunction-sections -pipe -isystem /ext/anaconda2020.02/include -fopenmp -march=nocona -mtune=haswell -ftree-vectorize -fPIC -fstack-protector-all -fno-plt -Og -g -Wall -Wextra -fcheck=all -fbacktrace -fimplicit-none -fvar-tracking-assignments -ffunction-sections -pipe",
    "ELFEDIT": "/ext/anaconda2020.02/bin/x86_64-conda_cos6-linux-gnu-elfedit",
    "F77": "/ext/anaconda2020.02/bin/x86_64-conda_cos6-linux-gnu-gfortran",
    "F90": "/ext/anaconda2020.02/bin/x86_64-conda_cos6-linux-gnu-gfortran",
    "F95": "/ext/anaconda2020.02/bin/x86_64-conda_cos6-linux-gnu-f95",
    "FC": "/ext/anaconda2020.02/bin/x86_64-conda_cos6-linux-gnu-gfortran",
    "FFLAGS": "-fopenmp -march=nocona -mtune=haswell -ftree-vectorize -fPIC -fstack-protector-strong -fno-plt -O2 -ffunction-sections -pipe -isystem /ext/anaconda2020.02/include",
    "FORTRANFLAGS": "-fopenmp -march=nocona -mtune=haswell -ftree-vectorize -fPIC -fstack-protector-strong -fno-plt -O2 -ffunction-sections -pipe -isystem /ext/anaconda2020.02/include",
    "GCC": "/ext/anaconda2020.02/bin/x86_64-conda_cos6-linux-gnu-gcc",
    "GCC_AR": "/ext/anaconda2020.02/bin/x86_64-conda_cos6-linux-gnu-gcc-ar",
    "GCC_NM": "/ext/anaconda2020.02/bin/x86_64-conda_cos6-linux-gnu-gcc-nm",
    "GCC_RANLIB": "/ext/anaconda2020.02/bin/x86_64-conda_cos6-linux-gnu-gcc-ranlib",
    "GDAL_DATA": "/ext/anaconda2020.02/share/gdal",
    "GFORTRAN": "/ext/anaconda2020.02/bin/x86_64-conda_cos6-linux-gnu-gfortran",
    "GPROF": "/ext/anaconda2020.02/bin/x86_64-conda_cos6-linux-gnu-gprof",
    "GXX": "/ext/anaconda2020.02/bin/x86_64-conda_cos6-linux-gnu-g++",
    "JAVA_HOME": "/ext/anaconda2020.02",
    "JAVA_HOME_CONDA_BACKUP": "",
    "JAVA_LD_LIBRARY_PATH": "/ext/anaconda2020.02/lib/server",
    "LD": "/ext/anaconda2020.02/bin/x86_64-conda_cos6-linux-gnu-ld",
    "LDFLAGS": "-Wl,-O2 -Wl,--sort-common -Wl,--as-needed -Wl,-z,relro -Wl,-z,now -Wl,--disable-new-dtags -Wl,--gc-sections -Wl,-rpath,/ext/anaconda2020.02/lib -Wl,-rpath-link,/ext/anaconda2020.02/lib -L/ext/anaconda2020.02/lib",
    "LD_GOLD": "/ext/anaconda2020.02/bin/x86_64-conda_cos6-linux-gnu-ld.gold",
    "LD_LIBRARY_PATH": "/ext/anaconda2020.02/lib",
    "MKL_INTERFACE_LAYER": "LP64,GNU",
    "MKL_THREADING_LAYER": "GNU",
    "NM": "/ext/anaconda2020.02/bin/x86_64-conda_cos6-linux-gnu-nm",
    "OBJCOPY": "/ext/anaconda2020.02/bin/x86_64-conda_cos6-linux-gnu-objcopy",
    "OBJDUMP": "/ext/anaconda2020.02/bin/x86_64-conda_cos6-linux-gnu-objdump",
    "OLDPWD": "/ext/anaconda2020.02",
    "PATH": "/ext/anaconda2020.02/bin:/ext/anaconda2020.02/bin:/ext/anaconda2020.02/condabin:/cocalc/bin:/cocalc/src/smc-project/bin:/home/salvus/bin:/home/salvus/.local/bin:/usr/lib/xpra:/ext/bin:/opt/ghc/bin:/usr/local/sbin:/usr/local/bin:/usr/sbin:/usr/bin:/sbin:/bin:/snap/bin:/usr/lib/postgresql/10/bin:/ext/data/homer/bin:/ext/data/weblogo",
    "PROJ_LIB": "/ext/anaconda2020.02/share/proj",
    "RANLIB": "/ext/anaconda2020.02/bin/x86_64-conda_cos6-linux-gnu-ranlib",
    "READELF": "/ext/anaconda2020.02/bin/x86_64-conda_cos6-linux-gnu-readelf",
    "RSTUDIO_WHICH_R": "/ext/anaconda2020.02/bin/R",
    "SIZE": "/ext/anaconda2020.02/bin/x86_64-conda_cos6-linux-gnu-size",
    "STRINGS": "/ext/anaconda2020.02/bin/x86_64-conda_cos6-linux-gnu-strings",
    "STRIP": "/ext/anaconda2020.02/bin/x86_64-conda_cos6-linux-gnu-strip",
    "_CE_CONDA": "",
    "_CE_M": "",
    "_CONDA_PYTHON_SYSCONFIGDATA_NAME": "_sysconfigdata_x86_64_conda_cos6_linux_gnu"
   },
   "language": "python",
   "metadata": {
    "cocalc": {
     "description": "Python/R distribution for data science",
     "priority": 5,
     "url": "https://www.anaconda.com/distribution/"
    }
   },
   "name": "anaconda2020",
   "resource_dir": "/ext/jupyter/kernels/anaconda2020"
  },
  "language_info": {
   "codemirror_mode": {
    "name": "ipython",
    "version": 3
   },
   "file_extension": ".py",
   "mimetype": "text/x-python",
   "name": "python",
   "nbconvert_exporter": "python",
   "pygments_lexer": "ipython3",
   "version": "3.7.8"
  }
 },
 "nbformat": 4,
 "nbformat_minor": 4
}